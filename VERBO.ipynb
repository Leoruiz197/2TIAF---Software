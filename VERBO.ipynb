{
  "nbformat": 4,
  "nbformat_minor": 0,
  "metadata": {
    "colab": {
      "provenance": [],
      "authorship_tag": "ABX9TyNJvc7wtBVw37MVdfWySHfI",
      "include_colab_link": true
    },
    "kernelspec": {
      "name": "python3",
      "display_name": "Python 3"
    },
    "language_info": {
      "name": "python"
    }
  },
  "cells": [
    {
      "cell_type": "markdown",
      "metadata": {
        "id": "view-in-github",
        "colab_type": "text"
      },
      "source": [
        "<a href=\"https://colab.research.google.com/github/LuizaGomes03/2TIAF---Software/blob/main/VERBO.ipynb\" target=\"_parent\"><img src=\"https://colab.research.google.com/assets/colab-badge.svg\" alt=\"Open In Colab\"/></a>"
      ]
    },
    {
      "cell_type": "code",
      "execution_count": 3,
      "metadata": {
        "colab": {
          "base_uri": "https://localhost:8080/"
        },
        "id": "Z6GnIalHzDas",
        "outputId": "808eb1a7-d7bb-4b66-b540-8cde7afe1d9e"
      },
      "outputs": [
        {
          "output_type": "stream",
          "name": "stdout",
          "text": [
            "Digite a frase: Ele chora\n",
            "Nenhum verbo principal foi encontrado na frase.\n"
          ]
        }
      ],
      "source": [
        "def encontrar_verbo(frase):\n",
        "    \"\"\"\n",
        "    Esta função encontra o verbo principal de uma frase.\n",
        "\n",
        "    Args:\n",
        "        frase (str): A frase a ser analisada.\n",
        "\n",
        "    Returns:\n",
        "        str: O verbo principal da frase, ou None se não for encontrado.\n",
        "    \"\"\"\n",
        "\n",
        "    # Dividir a frase em palavras\n",
        "    palavras = frase.lower().split()\n",
        "\n",
        "    # Verbos auxiliares\n",
        "    verbos_auxiliares = [\"ser\", \"estar\", \"ter\", \"haver\", \"poder\", \"dever\", \"saber\", \"ir\", \"fazer\"]\n",
        "\n",
        "    # Converter verbos de ligação em lista\n",
        "    verbos_ligacao = [\"ser\", \"estar\", \"parecer\"]\n",
        "\n",
        "    for i, palavra in enumerate(palavras):\n",
        "        # Se a palavra for um verbo no infinitivo\n",
        "        if palavra.endswith((\"ar\", \"er\", \"ir\")) or (palavra == \"ser\" and i > 0):\n",
        "            # Se a palavra não for um verbo auxiliar ou de ligação\n",
        "            if palavra not in verbos_auxiliares + verbos_ligacao:\n",
        "                return palavra\n",
        "\n",
        "    # Se nenhum verbo foi encontrado\n",
        "    return None\n",
        "\n",
        "# Mensagem para o usuário\n",
        "frase_usuario = input(\"Digite a frase: \")\n",
        "\n",
        "# Chamar a função e mostrar o resultado\n",
        "verbo_encontrado = encontrar_verbo(frase_usuario)\n",
        "if verbo_encontrado:\n",
        "    print(f\"O verbo principal na frase '{frase_usuario}' é: {verbo_encontrado}\")\n",
        "else:\n",
        "    print(\"Nenhum verbo principal foi encontrado na frase.\")\n"
      ]
    }
  ]
}