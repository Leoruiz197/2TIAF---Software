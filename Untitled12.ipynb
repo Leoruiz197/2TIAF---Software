{
  "nbformat": 4,
  "nbformat_minor": 0,
  "metadata": {
    "colab": {
      "provenance": [],
      "authorship_tag": "ABX9TyPRwgiYMZlbNKQracne26S6",
      "include_colab_link": true
    },
    "kernelspec": {
      "name": "python3",
      "display_name": "Python 3"
    },
    "language_info": {
      "name": "python"
    }
  },
  "cells": [
    {
      "cell_type": "markdown",
      "metadata": {
        "id": "view-in-github",
        "colab_type": "text"
      },
      "source": [
        "<a href=\"https://colab.research.google.com/github/LuizaGomes03/2TIAF---Software/blob/main/Untitled12.ipynb\" target=\"_parent\"><img src=\"https://colab.research.google.com/assets/colab-badge.svg\" alt=\"Open In Colab\"/></a>"
      ]
    },
    {
      "cell_type": "code",
      "execution_count": 61,
      "metadata": {
        "colab": {
          "base_uri": "https://localhost:8080/"
        },
        "id": "gun3zM-53xxB",
        "outputId": "87ca13df-b186-42e4-ec1e-d1670ed1af24"
      },
      "outputs": [
        {
          "output_type": "stream",
          "name": "stdout",
          "text": [
            "Verbos na frase: ['chorar', 'lavar']\n"
          ]
        }
      ],
      "source": [
        "def identificar_verbos(frase):\n",
        "    # Função para identificar verbos\n",
        "    palavras = frase.split()\n",
        "    formas_verbais = [\"ar\", \"er\", \"ir\", \"ando\", \"endo\", \"indo\", \"ava\", \"iam\", \"ei\", \"eu\", \"irá\",\"be\", \"na\", \"ita\", \"ar\"]\n",
        "\n",
        "    verbos = [palavra for palavra in palavras if any(palavra.endswith(forma) for forma in formas_verbais)]\n",
        "    return verbos\n",
        "\n",
        "def encontrar_e_mostrar_verbos(frase):\n",
        "    # Identificar verbos na frase\n",
        "    verbos_encontrados = identificar_verbos(frase)\n",
        "\n",
        "    # Mostrar os verbos ao usuário\n",
        "    print(f\"Verbos na frase: {verbos_encontrados}\")\n",
        "\n",
        "# Exemplo de uso\n",
        "frase_original = \"chorar e lavar o cabo da mae\"\n",
        "encontrar_e_mostrar_verbos(frase_original)\n"
      ]
    }
  ]
}